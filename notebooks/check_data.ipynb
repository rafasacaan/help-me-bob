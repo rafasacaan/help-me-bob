{
 "cells": [
  {
   "cell_type": "code",
   "execution_count": 7,
   "metadata": {},
   "outputs": [],
   "source": [
    "import pandas as pd\n",
    "import random"
   ]
  },
  {
   "cell_type": "code",
   "execution_count": 2,
   "metadata": {},
   "outputs": [],
   "source": [
    "df = pd.read_csv('../data/clear.csv')"
   ]
  },
  {
   "cell_type": "code",
   "execution_count": 3,
   "metadata": {},
   "outputs": [
    {
     "data": {
      "text/html": [
       "<div>\n",
       "<style scoped>\n",
       "    .dataframe tbody tr th:only-of-type {\n",
       "        vertical-align: middle;\n",
       "    }\n",
       "\n",
       "    .dataframe tbody tr th {\n",
       "        vertical-align: top;\n",
       "    }\n",
       "\n",
       "    .dataframe thead th {\n",
       "        text-align: right;\n",
       "    }\n",
       "</style>\n",
       "<table border=\"1\" class=\"dataframe\">\n",
       "  <thead>\n",
       "    <tr style=\"text-align: right;\">\n",
       "      <th></th>\n",
       "      <th>release_year</th>\n",
       "      <th>album</th>\n",
       "      <th>title</th>\n",
       "      <th>lyrics</th>\n",
       "    </tr>\n",
       "  </thead>\n",
       "  <tbody>\n",
       "    <tr>\n",
       "      <th>0</th>\n",
       "      <td>1961</td>\n",
       "      <td>The Bootleg Series, Vol 1-3: Rare &amp; Unreleased...</td>\n",
       "      <td>Hard Times In New York Town</td>\n",
       "      <td>Come you ladies and you gentlemen, a-listen to...</td>\n",
       "    </tr>\n",
       "    <tr>\n",
       "      <th>1</th>\n",
       "      <td>1961</td>\n",
       "      <td>The Bootleg Series, Vol 1-3: Rare &amp; Unreleased...</td>\n",
       "      <td>Man on the street</td>\n",
       "      <td>’ll sing you a song, ain’t very long\\n\\n’Bout ...</td>\n",
       "    </tr>\n",
       "    <tr>\n",
       "      <th>2</th>\n",
       "      <td>1962</td>\n",
       "      <td>The Bootleg Series, Vol 1-3: Rare &amp; Unreleased...</td>\n",
       "      <td>Talkin’ Bear Mountain Picnic Massacre Blues</td>\n",
       "      <td>I saw it advertised one day\\n\\nBear Mountain p...</td>\n",
       "    </tr>\n",
       "    <tr>\n",
       "      <th>3</th>\n",
       "      <td>1962</td>\n",
       "      <td>The Bootleg Series, Vol 1-3: Rare &amp; Unreleased...</td>\n",
       "      <td>Let Me Die in My Footsteps</td>\n",
       "      <td>I will not go down under the ground\\n\\n’Cause ...</td>\n",
       "    </tr>\n",
       "    <tr>\n",
       "      <th>4</th>\n",
       "      <td>1962</td>\n",
       "      <td>The Bootleg Series, Vol 1-3: Rare &amp; Unreleased...</td>\n",
       "      <td>Rambling, Gambling Willie</td>\n",
       "      <td>Come around you rovin’ gamblers and a story I ...</td>\n",
       "    </tr>\n",
       "  </tbody>\n",
       "</table>\n",
       "</div>"
      ],
      "text/plain": [
       "   release_year                                              album  \\\n",
       "0          1961  The Bootleg Series, Vol 1-3: Rare & Unreleased...   \n",
       "1          1961  The Bootleg Series, Vol 1-3: Rare & Unreleased...   \n",
       "2          1962  The Bootleg Series, Vol 1-3: Rare & Unreleased...   \n",
       "3          1962  The Bootleg Series, Vol 1-3: Rare & Unreleased...   \n",
       "4          1962  The Bootleg Series, Vol 1-3: Rare & Unreleased...   \n",
       "\n",
       "                                         title  \\\n",
       "0                  Hard Times In New York Town   \n",
       "1                            Man on the street   \n",
       "2  Talkin’ Bear Mountain Picnic Massacre Blues   \n",
       "3                   Let Me Die in My Footsteps   \n",
       "4                    Rambling, Gambling Willie   \n",
       "\n",
       "                                              lyrics  \n",
       "0  Come you ladies and you gentlemen, a-listen to...  \n",
       "1  ’ll sing you a song, ain’t very long\\n\\n’Bout ...  \n",
       "2  I saw it advertised one day\\n\\nBear Mountain p...  \n",
       "3  I will not go down under the ground\\n\\n’Cause ...  \n",
       "4  Come around you rovin’ gamblers and a story I ...  "
      ]
     },
     "execution_count": 3,
     "metadata": {},
     "output_type": "execute_result"
    }
   ],
   "source": [
    "df.head()"
   ]
  },
  {
   "cell_type": "code",
   "execution_count": 6,
   "metadata": {},
   "outputs": [
    {
     "name": "stdout",
     "output_type": "stream",
     "text": [
      "Far between sundown’s finish an’ midnight’s broken toll\n",
      " \n",
      " We ducked inside the doorway, thunder crashing\n",
      " \n",
      " As majestic bells of bolts struck shadows in the sounds\n",
      " \n",
      " Seeming to be the chimes of freedom flashing\n",
      " \n",
      " Flashing for the warriors whose strength is not to fight\n",
      " \n",
      " Flashing for the refugees on the unarmed road of flight\n",
      " \n",
      " An’ for each an’ ev’ry underdog soldier in the night\n",
      " \n",
      " An’ we gazed upon the chimes of freedom flashing\n",
      " \n",
      " \n",
      " \n",
      " In the city’s melted furnace, unexpectedly we watched\n",
      " \n",
      " With faces hidden while the walls were tightening\n",
      " \n",
      " As the echo of the wedding bells before the blowin’ rain\n",
      " \n",
      " Dissolved into the bells of the lightning\n",
      " \n",
      " Tolling for the rebel, tolling for the rake\n",
      " \n",
      " Tolling for the luckless, the abandoned an’ forsaked\n",
      " \n",
      " Tolling for the outcast, burnin’ constantly at stake\n",
      " \n",
      " An’ we gazed upon the chimes of freedom flashing\n",
      " \n",
      " \n",
      " \n",
      " Through the mad mystic hammering of the wild ripping hail\n",
      " \n",
      " The sky cracked its poems in naked wonder\n",
      " \n",
      " That the clinging of the church bells blew far into the breeze\n",
      " \n",
      " Leaving only bells of lightning and its thunder\n",
      " \n",
      " Striking for the gentle, striking for the kind\n",
      " \n",
      " Striking for the guardians and protectors of the mind\n",
      " \n",
      " An’ the unpawned painter behind beyond his rightful time\n",
      " \n",
      " An’ we gazed upon the chimes of freedom flashing\n",
      " \n",
      " \n",
      " \n",
      " Through the wild cathedral evening the rain unraveled tales\n",
      " \n",
      " For the disrobed faceless forms of no position\n",
      " \n",
      " Tolling for the tongues with no place to bring their thoughts\n",
      " \n",
      " All down in taken-for-granted situations\n",
      " \n",
      " Tolling for the deaf an’ blind, tolling for the mute\n",
      " \n",
      " Tolling for the mistreated, mateless mother, the mistitled prostitute\n",
      " \n",
      " For the misdemeanor outlaw, chased an’ cheated by pursuit\n",
      " \n",
      " An’ we gazed upon the chimes of freedom flashing\n",
      " \n",
      " \n",
      " \n",
      " Even though a cloud’s white curtain in a far-off corner flashed\n",
      " \n",
      " An’ the hypnotic splattered mist was slowly lifting\n",
      " \n",
      " Electric light still struck like arrows, fired but for the ones\n",
      " \n",
      " Condemned to drift or else be kept from drifting\n",
      " \n",
      " Tolling for the searching ones, on their speechless, seeking trail\n",
      " \n",
      " For the lonesome-hearted lovers with too personal a tale\n",
      " \n",
      " An’ for each unharmful, gentle soul misplaced inside a jail\n",
      " \n",
      " An’ we gazed upon the chimes of freedom flashing\n",
      " \n",
      " \n",
      " \n",
      " Starry-eyed an’ laughing as I recall when we were caught\n",
      " \n",
      " Trapped by no track of hours for they hanged suspended\n",
      " \n",
      " As we listened one last time an’ we watched with one last look\n",
      " \n",
      " Spellbound an’ swallowed ’til the tolling ended\n",
      " \n",
      " Tolling for the aching ones whose wounds cannot be nursed\n",
      " \n",
      " For the countless confused, accused, misused, strung-out ones an’ worse\n",
      " \n",
      " An’ for every hung-up person in the whole wide universe\n",
      " \n",
      " An’ we gazed upon the chimes of freedom flashing\n"
     ]
    }
   ],
   "source": [
    "print(df.loc[42].lyrics)"
   ]
  },
  {
   "cell_type": "code",
   "execution_count": 34,
   "metadata": {},
   "outputs": [],
   "source": [
    "def get_random_lyrics(df, year=None):\n",
    "    \"\"\"\n",
    "    Select random lyrics from a dataframe for a specific year or any year.\n",
    "    If exact year not found, selects from the closest available year.\n",
    "    \n",
    "    Parameters:\n",
    "    df (pandas.DataFrame): DataFrame with columns: release_year, album, title, lyrics\n",
    "    year (int, optional): Specific year to filter by. If None, selects from any year\n",
    "    \n",
    "    Returns:\n",
    "    dict: Dictionary containing song information and selected verse\n",
    "    \"\"\"\n",
    "    if year is not None:\n",
    "        # Get all unique years in the dataset\n",
    "        available_years = sorted(df['release_year'].unique())\n",
    "        \n",
    "        if year not in available_years:\n",
    "            # Find the closest year\n",
    "            closest_year = min(available_years, key=lambda x: abs(x - year))\n",
    "            filtered_df = df[df['release_year'] == closest_year]\n",
    "            original_year = year\n",
    "            year = closest_year\n",
    "        else:\n",
    "            filtered_df = df[df['release_year'] == year]\n",
    "    else:\n",
    "        filtered_df = df\n",
    "        \n",
    "    # Randomly select a song\n",
    "    selected_song = filtered_df.sample(n=1).iloc[0]\n",
    "    \n",
    "    # Split lyrics into verses (assuming verses are separated by blank lines)\n",
    "    verses = [verse.strip() for verse in selected_song['lyrics'].split('\\n\\n') if verse.strip()]\n",
    "    \n",
    "    # Select random verse\n",
    "    selected_verse = random.choice(verses)\n",
    "    \n",
    "    result = {\n",
    "        \"year\": selected_song['release_year'],\n",
    "        \"album\": selected_song['album'],\n",
    "        \"title\": selected_song['title'],\n",
    "        \"verse\": selected_verse\n",
    "    }\n",
    "    \n",
    "    # Add information about year approximation if relevant\n",
    "    if year is not None and 'original_year' in locals():\n",
    "        result[\"note\"] = f\"No songs found for {original_year}, using closest year ({closest_year})\"\n",
    "    \n",
    "    return result['verse'], result['title']"
   ]
  },
  {
   "cell_type": "code",
   "execution_count": 35,
   "metadata": {},
   "outputs": [
    {
     "data": {
      "text/plain": [
       "('And to you, always, so grateful', 'Covenant Woman')"
      ]
     },
     "execution_count": 35,
     "metadata": {},
     "output_type": "execute_result"
    }
   ],
   "source": [
    "get_random_lyrics(df=df, year=1980)"
   ]
  },
  {
   "cell_type": "code",
   "execution_count": 29,
   "metadata": {},
   "outputs": [],
   "source": [
    "res = get_random_lyrics(df=df, year=1980)"
   ]
  },
  {
   "cell_type": "code",
   "execution_count": 30,
   "metadata": {},
   "outputs": [
    {
     "data": {
      "text/plain": [
       "'Are You Ready?'"
      ]
     },
     "execution_count": 30,
     "metadata": {},
     "output_type": "execute_result"
    }
   ],
   "source": [
    "res['title']"
   ]
  },
  {
   "cell_type": "code",
   "execution_count": 31,
   "metadata": {},
   "outputs": [
    {
     "name": "stdout",
     "output_type": "stream",
     "text": [
      "Am I ready, hope I’m ready\n"
     ]
    }
   ],
   "source": [
    "print(res['verse'])"
   ]
  }
 ],
 "metadata": {
  "kernelspec": {
   "display_name": ".venv",
   "language": "python",
   "name": "python3"
  },
  "language_info": {
   "codemirror_mode": {
    "name": "ipython",
    "version": 3
   },
   "file_extension": ".py",
   "mimetype": "text/x-python",
   "name": "python",
   "nbconvert_exporter": "python",
   "pygments_lexer": "ipython3",
   "version": "3.12.3"
  }
 },
 "nbformat": 4,
 "nbformat_minor": 2
}
